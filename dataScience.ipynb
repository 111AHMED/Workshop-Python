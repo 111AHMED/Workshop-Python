{
 "cells": [
  {
   "cell_type": "markdown",
   "id": "bd872fdc",
   "metadata": {},
   "source": [
    "# Import libararies"
   ]
  },
  {
   "cell_type": "code",
   "execution_count": 63,
   "id": "79d7025b",
   "metadata": {},
   "outputs": [],
   "source": [
    "from bs4 import BeautifulSoup\n",
    "import requests\n",
    "import csv"
   ]
  },
  {
   "cell_type": "markdown",
   "id": "f61a2ef8",
   "metadata": {},
   "source": [
    "# Create csv file"
   ]
  },
  {
   "cell_type": "code",
   "execution_count": 64,
   "id": "0a456874",
   "metadata": {},
   "outputs": [
    {
     "data": {
      "text/plain": [
       "22"
      ]
     },
     "execution_count": 64,
     "metadata": {},
     "output_type": "execute_result"
    }
   ],
   "source": [
    "data = {}\n",
    "out_filename = \"enseignants.csv\"\n",
    "headers = \"profession;enseignant\\n\"\n",
    "f = open(out_filename, \"wt+\",encoding='utf8')\n",
    "f.write(headers)"
   ]
  },
  {
   "cell_type": "markdown",
   "id": "25db0dda",
   "metadata": {},
   "source": [
    "# Connect to our site"
   ]
  },
  {
   "cell_type": "code",
   "execution_count": 65,
   "id": "71329f95",
   "metadata": {},
   "outputs": [],
   "source": [
    "page_url = \"http://www.fsgf.rnu.tn/fra/enseignants\"\n",
    "uClient = requests.get(page_url)\n",
    "page_soup = BeautifulSoup(uClient.content, \"html.parser\")\n",
    "uClient.close()"
   ]
  },
  {
   "cell_type": "markdown",
   "id": "1347f2ba",
   "metadata": {},
   "source": [
    "# Find the main html element"
   ]
  },
  {
   "cell_type": "code",
   "execution_count": 66,
   "id": "0a5e9a08",
   "metadata": {},
   "outputs": [],
   "source": [
    "containers = page_soup.findAll(\"div\", {\"class\": \"tcard-content-item\"})"
   ]
  },
  {
   "cell_type": "markdown",
   "id": "5b33d676",
   "metadata": {},
   "source": [
    "# Loop all the data "
   ]
  },
  {
   "cell_type": "markdown",
   "id": "6346cc24",
   "metadata": {},
   "source": [
    "### Save data in our csv file "
   ]
  },
  {
   "cell_type": "code",
   "execution_count": 67,
   "id": "2ab96b08",
   "metadata": {},
   "outputs": [
    {
     "name": "stdout",
     "output_type": "stream",
     "text": [
      "Enseignant :  Basdouri Imed , Profession :   Professeur\n",
      "Enseignant :  Rached BEN YOUNES , Profession :   Professeur\n",
      "Enseignant :  Aloui Limam , Profession :   Professeur\n",
      "Enseignant :  Moussaoui Younes , Profession :   Professeur\n",
      "Enseignant :  Nasri Nejeh , Profession :   Maitre de confÃ©rence\n",
      "Enseignant :  Omri Salem , Profession :   Maitre de confÃ©rence\n",
      "Enseignant :  Essghraier Taoufik , Profession :   Maitre de confÃ©rence\n",
      "Enseignant :  Elhizim elkayach Naila , Profession :   Maitre de confÃ©rence\n",
      "Enseignant :  Hidouri Ammar , Profession :   Maitre de confÃ©rence\n",
      "Enseignant :  Mnasri Taoufik , Profession :   Maitre de confÃ©rence\n",
      "Enseignant :  Hamed Younis , Profession :   Maitre de confÃ©rence\n",
      "Enseignant :  Henchiri Mohsen , Profession :   Maitre de confÃ©rence\n",
      "Enseignant :  Dhahri Farid , Profession :   Maitre de confÃ©rence\n",
      "Enseignant :  Ali Chaouki , Profession :   Maitre de confÃ©rence\n",
      "Enseignant :  AbdelJabbar Ridha , Profession :   Maitre de confÃ©rence\n",
      "Enseignant :  Hfaiedh Najla , Profession :   Maitre de confÃ©rence\n",
      "Enseignant :  Allagui Mohamed Salah , Profession :   Maitre de confÃ©rence\n",
      "Enseignant :  Borgi Mohamed Ali , Profession :   Maitre de confÃ©rence\n",
      "Enseignant :  Mekki Ali , Profession :   Maitre de confÃ©rence\n",
      "Enseignant :  Ben Slimen Amel , Profession :   Maitre de confÃ©rence\n",
      "Enseignant :  bouguerra Bouzid Wided , Profession :   Maitre de confÃ©rence\n",
      "Enseignant :  Hidouri Sami , Profession :   Maitre Assistant\n",
      "Enseignant :  Aissaoui Raik , Profession :   Maitre Assistant\n",
      "Enseignant :  Hammami Chourouk , Profession :   Maitre Assistant\n",
      "Enseignant :  Romdhan Kchich Rim , Profession :   Maitre Assistant\n",
      "Enseignant :  Othmani Mohamed , Profession :   Maitre Assistant\n",
      "Enseignant :  Smairi Nadia , Profession :   Maitre Assistant\n",
      "Enseignant :  Zghol Rebaii Rim , Profession :   Maitre Assistant\n",
      "Enseignant :  Harrathi Rami , Profession :   Maitre Assistant\n",
      "Enseignant :  Zidi Kamel , Profession :   Maitre Assistant\n",
      "Enseignant :  Hadj Kacem Yessine , Profession :   Maitre Assistant\n",
      "Enseignant :  Zidi Issam , Profession :   Maitre Assistant\n",
      "Enseignant :  Athmouni Naim , Profession :   Maitre Assistant\n",
      "Enseignant :  Ayadi Adlen , Profession :   Maitre Assistant\n",
      "Enseignant :  Ben Yahya Hamed , Profession :   Maitre Assistant\n",
      "Enseignant :  Ben Souf Aymen , Profession :   Maitre Assistant\n",
      "Enseignant :  Ghnimi Saifeddine , Profession :   Maitre Assistant\n",
      "Enseignant :  mabrouk Sami , Profession :   Maitre Assistant\n",
      "Enseignant :  Salhi Najeh , Profession :   Maitre Assistant\n",
      "Enseignant :  Aloui NAreddine , Profession :   Maitre Assistant\n",
      "Enseignant :  Nssib Othmane , Profession :   Maitre Assistant\n",
      "Enseignant :  Messaoud Rim , Profession :   Maitre Assistant\n",
      "Enseignant :  Ghanmi Boulbeba , Profession :   Maitre Assistant\n",
      "Enseignant :  Beloudi Hatem , Profession :   Maitre Assistant\n",
      "Enseignant :  Etayeb Aymen , Profession :   Maitre Assistant\n",
      "Enseignant :  Echi Nadhem , Profession :   Maitre Assistant\n",
      "Enseignant :  Khaldi Othman , Profession :   Maitre Assistant\n",
      "Enseignant :  Chouchane Fraj , Profession :   Maitre Assistant\n",
      "Enseignant :  Charfi Kais , Profession :   Maitre Assistant\n",
      "Enseignant :  Triki Abdelouahab , Profession :   Maitre Assistant\n",
      "Enseignant :  Mbarek Mohamed , Profession :   Maitre Assistant\n",
      "Enseignant :  Jallouli Hassen , Profession :   Maitre Assistant\n",
      "Enseignant :  Salem Jamel , Profession :   Maitre Assistant\n",
      "Enseignant :  Kilani Mona , Profession :   Maitre Assistant\n",
      "Enseignant :  Hidouri Noureddine , Profession :   Maitre Assistant\n",
      "Enseignant :  Kadri Kamel , Profession :   Maitre Assistant\n",
      "Enseignant :  Lamine Hatem , Profession :   Maitre Assistant\n",
      "Enseignant :  Yahyaoui makram , Profession :   Maitre Assistant\n",
      "Enseignant :  Zmorli Basma , Profession :   Maitre Assistant\n",
      "Enseignant :  Raddaoui Moufid , Profession :   Maitre Assistant\n",
      "Enseignant :  Ben Bechir Mohamed , Profession :   Maitre Assistant\n",
      "Enseignant :  Kahouli Abdelkrim , Profession :   Maitre Assistant\n",
      "Enseignant :  Omezzine Marouen , Profession :   Maitre Assistant\n",
      "Enseignant :  Elarbi Tarek , Profession :   Maitre Assistant\n",
      "Enseignant :  Hajlaoui Sondos , Profession :   Maitre Assistant\n",
      "Enseignant :  Mestiri Rafika , Profession :   Maitre Assistant\n",
      "Enseignant :  Dardouri Sana , Profession :   Maitre Assistant\n",
      "Enseignant :  Hajj Omor Raja , Profession :   Maitre Assistant\n",
      "Enseignant :  benassi Romdhan , Profession :   Maitre Assistant\n",
      "Enseignant :  Mhamdi Abdelkader , Profession :   Maitre Assistant\n",
      "Enseignant :  Rouiss Zarkouni Imen , Profession :   Maitre Assistant\n",
      "Enseignant :  Ben Gara Ali Omar , Profession :   Maitre Assistant\n",
      "Enseignant :  Karaouli Fatma , Profession :   Maitre Assistant\n",
      "Enseignant :  Hafiedh Rabaa , Profession :   Maitre Assistant\n",
      "Enseignant :  Othmani Mohamed Ali , Profession :   Maitre Assistant\n",
      "Enseignant :  Nejib JEMMALI , Profession :   Maitre Assistant\n",
      "Enseignant :  Salami Latifa , Profession :   Maitre Assistant\n",
      "Enseignant :  Alhilali Mohamed Amine , Profession :   Maitre Assistant\n",
      "Enseignant :  Azizi Ramzi , Profession :   Maitre Assistant\n",
      "Enseignant :  Triki ltaief Ibtissem , Profession :   Maitre Assistant\n",
      "Enseignant :  Arfaoui Adel , Profession :   Maitre Assistant\n",
      "Enseignant :  Ouerghi Sara , Profession :   Maitre Assistant\n",
      "Enseignant :  Khalif Nadia , Profession :   Maitre Assistant\n",
      "Enseignant :  Hentati Imen , Profession :   Maitre Assistant\n",
      "Enseignant :  Rouabeh Jilani , Profession :   Maitre Assistant\n",
      "Enseignant :  Nasri Faouzi , Profession :   Maitre Assistant\n",
      "Enseignant :  Amin Khadim Mohamed , Profession :   Maitre Assistant\n",
      "Enseignant :  smaoui Moez , Profession :   Maitre Assistant\n",
      "Enseignant :  Moussa Mourad , Profession :   Maitre Assistant\n",
      "Enseignant :  Dallali Adel , Profession :   Maitre Assistant\n",
      "Enseignant :  ben Said Hasna , Profession :   Maitre Assistant\n",
      "Enseignant :  Baklouti Mouna , Profession :   Maitre Assistant\n",
      "Enseignant :  Nsibi walid , Profession :   Maitre Assistant\n",
      "Enseignant :  guizani Amir , Profession :   Maitre Assistant\n",
      "Enseignant :  Najmaoui Mgadmi Chedia , Profession :   Maitre Assistant\n",
      "Enseignant :  Hentati Nessrine , Profession :   Maitre Assistant\n",
      "Enseignant :  turki Yosra , Profession :   Maitre Assistant\n",
      "Enseignant :  Daghfas Olfa , Profession :   Maitre Assistant\n",
      "Enseignant :  elloumi Mourad , Profession :   Maitre Assistant\n",
      "Enseignant :  Lafi Ali , Profession :   Maitre Assistant\n",
      "Enseignant :  Yakoubi Soumaya , Profession :   Maitre Assistant\n",
      "Enseignant :  Souid Sami , Profession :   Maitre Assistant\n",
      "Enseignant :  Alaya Akram , Profession :   Maitre Assistant\n",
      "Enseignant :  Assadi Bechir , Profession :   Maitre Assistant\n",
      "Enseignant :  Brahim Souhir , Profession :   Maitre Assistant\n",
      "Enseignant :  Zidi Intissar , Profession :   Maitre Assistant\n",
      "Enseignant :  Tounekti Taieb , Profession :   Maitre Assistant\n",
      "Enseignant :  Drira Zaher , Profession :   Maitre Assistant\n",
      "Enseignant :  Ghazouani Lakhdher , Profession :   Maitre Assistant\n",
      "Enseignant :  Horchani Faouzi , Profession :   Maitre Assistant\n",
      "Enseignant :  Zarouk Faouzi , Profession :   Maitre Assistant\n",
      "Enseignant :  Ayed Boussama Imen , Profession :   Maitre Assistant\n",
      "Enseignant :  Miledi Imen , Profession :   Maitre Assistant\n",
      "Enseignant :  Saidi Issam , Profession :   Maitre Assistant\n",
      "Enseignant :  Abdelmoula Salma , Profession :   Maitre Assistant\n",
      "Enseignant :  Mejri Randa , Profession :   Maitre Assistant\n",
      "Enseignant :  Ben mabrouk Sameh , Profession :   Maitre Assistant\n",
      "Enseignant :  Sadraoui Dali Raoudha , Profession :   Maitre Assistant\n",
      "Enseignant :  Mabrouk Lotfi , Profession :   Maitre Assistant\n",
      "Enseignant :  Alimi Hichem , Profession :   Maitre Assistant\n",
      "Enseignant :  ben younes Sonia , Profession :   Maitre Assistant\n",
      "Enseignant :  Bouzid Dorra , Profession :   Maitre Assistant\n",
      "Enseignant :  ben Hssouna Anis , Profession :   Maitre Assistant\n",
      "Enseignant :  Ben Mansour Riadh , Profession :   Maitre Assistant\n",
      "Enseignant :  Hcini Kheria , Profession :   Maitre Assistant\n",
      "Enseignant :  Brahmi Faten , Profession :   Maitre Assistant\n",
      "Enseignant :  Sila Assaad , Profession :   Maitre Assistant\n",
      "Enseignant :  Bouaziz Donia , Profession :   Maitre Assistant\n",
      "Enseignant :  ben Nasser Hmed , Profession :   Maitre Assistant\n",
      "Enseignant :  Ben Rjab Kilani , Profession :   Maitre Assistant\n",
      "Enseignant :  Mnafgui Kais , Profession :   Maitre Assistant\n",
      "Enseignant :  Sellami Sameh , Profession :   Maitre Assistant\n",
      "Enseignant :  Ben Jomaa Awatef , Profession :   Maitre Assistant\n",
      "Enseignant :  Magdoud Kalthoum , Profession :   Maitre Assistant\n",
      "Enseignant :  Horchi Wahid , Profession :   Maitre Assistant\n",
      "Enseignant :  macherki Ajmi Monia , Profession :   Maitre Assistant\n",
      "Enseignant :  Rjiba Karima , Profession :   Maitre Assistant\n",
      "Enseignant :  Fnina Kamel , Profession :   Maitre Assistant\n",
      "Enseignant :  Bilel Hallouma , Profession :   Maitre Assistant\n",
      "Enseignant :  Rekik Mohamed Ali , Profession :   Maitre Assistant\n",
      "Enseignant :  Anna Rabeh Zohra , Profession :   Maitre Assistant\n",
      "Enseignant :  Ben Mosbah Monji , Profession :   Maitre Assistant\n",
      "Enseignant :  Mesfar Mouna , Profession :   Maitre Assistant\n",
      "Enseignant :  Chmingui mahmoud , Profession :   Maitre Assistant\n",
      "Enseignant :  Agougui Hassen , Profession :   Maitre Assistant\n",
      "Enseignant :  Selmi Ahmed , Profession :   Maitre Assistant\n",
      "Enseignant :  Dhifet Mondher , Profession :   Maitre Assistant\n",
      "Enseignant :  Kacem Imen , Profession :   Maitre Assistant\n",
      "Enseignant :  Elghniji Kais , Profession :   Maitre Assistant\n",
      "Enseignant :  omri  abedesslem , Profession :   Maitre Assistant\n",
      "Enseignant :  Mechi Assed , Profession :   Maitre Assistant\n",
      "Enseignant :  Rekik Yassine , Profession :   Maitre Assistant\n",
      "Enseignant :  Wahbi Aymen , Profession :   Maitre Assistant\n",
      "Enseignant :  Azabou maryem , Profession :   Maitre Assistant\n",
      "Enseignant :  Hamza Morched , Profession :   Maitre Assistant\n",
      "Enseignant :  Khouni Taieb , Profession :   Maitre Assistant\n",
      "Enseignant :  Abdelli Abderrahmen , Profession :   Maitre Assistant\n",
      "Enseignant :  Ben Amor Sarra , Profession :   Maitre Assistant\n",
      "Enseignant :  Abdelkhader Abdelkarim , Profession :   Assistant\n",
      "Enseignant :  Khediri Salim , Profession :   Assistant\n",
      "Enseignant :  Ben Hariz Narjes , Profession :   Assistant\n",
      "Enseignant :  Saidi Omar , Profession :   Assistant\n",
      "Enseignant :  Soudan Lotfi , Profession :   Assistant\n",
      "Enseignant :  Fajraoui Tarek , Profession :   Assistant\n",
      "Enseignant :  Kbaili Boukhriss Imen , Profession :   Assistant\n",
      "Enseignant :  Fattah Mejda , Profession :   Prof de l'Enseignement secondaire\n",
      "Enseignant :  Abbas Fatma , Profession :   Professeur principal hors classe\n",
      "Enseignant :  Fkir Samia , Profession :   Professeur principal hors classe\n",
      "Enseignant :  Tlili Sihem , Profession :   Professeur principal hors classe\n",
      "Enseignant :  Rahal Mohamed , Profession :   Professeur principal hors classe\n",
      "Enseignant :  Heni Samiha , Profession :   Professeur principal hors classe\n",
      "Enseignant :  Dhahri Souad , Profession :   Professeur principal hors classe\n",
      "Enseignant :  Messai Soufiene , Profession :   Professeur principal hors classe\n",
      "Enseignant :  Thaljaoui Adel , Profession :   Professeur Principal tronc commun en MÃ©rite\n",
      "Enseignant :  Mnasri Sami , Profession :   Professeur Principal tronc commun en MÃ©rite\n",
      "Enseignant :  Ben Mohamed Emna , Profession :   Professeur Principal tronc commun en MÃ©rite\n",
      "Enseignant :  Nizar Mohammed , Profession :   Professeur Principal tronc commun en MÃ©rite\n",
      "Enseignant :  Hamdani Hanen , Profession :   Professeur Principal tronc commun en MÃ©rite\n",
      "Enseignant :  Karem Fatma , Profession :   Professeur Principal tronc commun en MÃ©rite\n",
      "Enseignant :  Tabbabi Abid , Profession :   Professeur Principal tronc commun en MÃ©rite\n",
      "Enseignant :  Hajlaoui Wassim , Profession :   Professeur Principal tronc commun en MÃ©rite\n",
      "Enseignant :  Khdimi Naziha , Profession :   Professeur Principal tronc commun en MÃ©rite\n",
      "Enseignant :  Chelbi Najoua , Profession :   Professeur Principal tronc commun en MÃ©rite\n",
      "Enseignant :  Ahmadi Nourelhouda , Profession :   Professeur Principal tronc commun en MÃ©rite\n",
      "Enseignant :  Abdallah Fethi , Profession :   Professeur Principal tronc commun en MÃ©rite\n",
      "184\n"
     ]
    }
   ],
   "source": [
    "\n",
    "for idx,container in enumerate(containers):\n",
    "    \n",
    "    enseignant = container.find(\"div\",{\"class\":\"h2\"}).text.strip()\n",
    "    profession = container.find(\"div\",{\"class\":\"h3\"}).text.strip()\n",
    "    \n",
    "    print(\"Enseignant : \", enseignant, \", Profession :  \", profession)\n",
    "    f.write(profession+ \";\" +enseignant+\"\\n\")  \n",
    "f.close() \n",
    "\n",
    "print(idx)"
   ]
  },
  {
   "cell_type": "markdown",
   "id": "83433e5e",
   "metadata": {},
   "source": [
    "# Read our csv file"
   ]
  },
  {
   "cell_type": "code",
   "execution_count": 68,
   "id": "213a7ca8",
   "metadata": {},
   "outputs": [
    {
     "data": {
      "text/html": [
       "<div>\n",
       "<style scoped>\n",
       "    .dataframe tbody tr th:only-of-type {\n",
       "        vertical-align: middle;\n",
       "    }\n",
       "\n",
       "    .dataframe tbody tr th {\n",
       "        vertical-align: top;\n",
       "    }\n",
       "\n",
       "    .dataframe thead th {\n",
       "        text-align: right;\n",
       "    }\n",
       "</style>\n",
       "<table border=\"1\" class=\"dataframe\">\n",
       "  <thead>\n",
       "    <tr style=\"text-align: right;\">\n",
       "      <th></th>\n",
       "      <th>profession</th>\n",
       "      <th>enseignant</th>\n",
       "    </tr>\n",
       "  </thead>\n",
       "  <tbody>\n",
       "    <tr>\n",
       "      <th>0</th>\n",
       "      <td>Professeur</td>\n",
       "      <td>Basdouri Imed</td>\n",
       "    </tr>\n",
       "    <tr>\n",
       "      <th>1</th>\n",
       "      <td>Professeur</td>\n",
       "      <td>Rached BEN YOUNES</td>\n",
       "    </tr>\n",
       "    <tr>\n",
       "      <th>2</th>\n",
       "      <td>Professeur</td>\n",
       "      <td>Aloui Limam</td>\n",
       "    </tr>\n",
       "    <tr>\n",
       "      <th>3</th>\n",
       "      <td>Professeur</td>\n",
       "      <td>Moussaoui Younes</td>\n",
       "    </tr>\n",
       "    <tr>\n",
       "      <th>4</th>\n",
       "      <td>Maitre de confÃ©rence</td>\n",
       "      <td>Nasri Nejeh</td>\n",
       "    </tr>\n",
       "  </tbody>\n",
       "</table>\n",
       "</div>"
      ],
      "text/plain": [
       "              profession         enseignant\n",
       "0             Professeur      Basdouri Imed\n",
       "1             Professeur  Rached BEN YOUNES\n",
       "2             Professeur        Aloui Limam\n",
       "3             Professeur   Moussaoui Younes\n",
       "4  Maitre de confÃ©rence        Nasri Nejeh"
      ]
     },
     "execution_count": 68,
     "metadata": {},
     "output_type": "execute_result"
    }
   ],
   "source": [
    "import pandas as pd \n",
    "data = pd.read_csv(\"enseignants.csv\" , encoding='utf-8',delimiter=';')\n",
    "data.head()"
   ]
  },
  {
   "cell_type": "markdown",
   "id": "f727ca24",
   "metadata": {},
   "source": [
    "### Display Some information"
   ]
  },
  {
   "cell_type": "code",
   "execution_count": 69,
   "id": "685bbec3",
   "metadata": {},
   "outputs": [
    {
     "name": "stdout",
     "output_type": "stream",
     "text": [
      "185\n"
     ]
    }
   ],
   "source": [
    "print(len(data))"
   ]
  },
  {
   "cell_type": "code",
   "execution_count": 70,
   "id": "d74ae58e",
   "metadata": {
    "scrolled": true
   },
   "outputs": [
    {
     "data": {
      "text/plain": [
       "Maitre Assistant                                137\n",
       "Maitre de confÃ©rence                            17\n",
       "Professeur Principal tronc commun en MÃ©rite     12\n",
       "Professeur principal hors classe                  7\n",
       "Assistant                                         7\n",
       "Professeur                                        4\n",
       "Prof de l'Enseignement secondaire                 1\n",
       "Name: profession, dtype: int64"
      ]
     },
     "execution_count": 70,
     "metadata": {},
     "output_type": "execute_result"
    }
   ],
   "source": [
    "data[\"profession\"].value_counts()"
   ]
  },
  {
   "cell_type": "code",
   "execution_count": 71,
   "id": "0cd1af56",
   "metadata": {},
   "outputs": [
    {
     "data": {
      "text/plain": [
       "Aloui NAreddine      1\n",
       "Hamza Morched        1\n",
       "AbdelJabbar Ridha    1\n",
       "Chmingui mahmoud     1\n",
       "Abdelmoula Salma     1\n",
       "                    ..\n",
       "Rahal Mohamed        1\n",
       "Ben Rjab Kilani      1\n",
       "Omri Salem           1\n",
       "Horchi Wahid         1\n",
       "Yahyaoui makram      1\n",
       "Name: enseignant, Length: 185, dtype: int64"
      ]
     },
     "execution_count": 71,
     "metadata": {},
     "output_type": "execute_result"
    }
   ],
   "source": [
    "data[\"enseignant\"].value_counts()"
   ]
  },
  {
   "cell_type": "code",
   "execution_count": 72,
   "id": "c2ada67c",
   "metadata": {},
   "outputs": [
    {
     "data": {
      "text/html": [
       "<div>\n",
       "<style scoped>\n",
       "    .dataframe tbody tr th:only-of-type {\n",
       "        vertical-align: middle;\n",
       "    }\n",
       "\n",
       "    .dataframe tbody tr th {\n",
       "        vertical-align: top;\n",
       "    }\n",
       "\n",
       "    .dataframe thead th {\n",
       "        text-align: right;\n",
       "    }\n",
       "</style>\n",
       "<table border=\"1\" class=\"dataframe\">\n",
       "  <thead>\n",
       "    <tr style=\"text-align: right;\">\n",
       "      <th></th>\n",
       "      <th>profession</th>\n",
       "      <th>enseignant</th>\n",
       "    </tr>\n",
       "  </thead>\n",
       "  <tbody>\n",
       "    <tr>\n",
       "      <th>count</th>\n",
       "      <td>185</td>\n",
       "      <td>185</td>\n",
       "    </tr>\n",
       "    <tr>\n",
       "      <th>unique</th>\n",
       "      <td>7</td>\n",
       "      <td>185</td>\n",
       "    </tr>\n",
       "    <tr>\n",
       "      <th>top</th>\n",
       "      <td>Maitre Assistant</td>\n",
       "      <td>Aloui NAreddine</td>\n",
       "    </tr>\n",
       "    <tr>\n",
       "      <th>freq</th>\n",
       "      <td>137</td>\n",
       "      <td>1</td>\n",
       "    </tr>\n",
       "  </tbody>\n",
       "</table>\n",
       "</div>"
      ],
      "text/plain": [
       "              profession       enseignant\n",
       "count                185              185\n",
       "unique                 7              185\n",
       "top     Maitre Assistant  Aloui NAreddine\n",
       "freq                 137                1"
      ]
     },
     "execution_count": 72,
     "metadata": {},
     "output_type": "execute_result"
    }
   ],
   "source": [
    "data.describe()"
   ]
  },
  {
   "cell_type": "code",
   "execution_count": null,
   "id": "a16cec83",
   "metadata": {
    "scrolled": false
   },
   "outputs": [],
   "source": []
  },
  {
   "cell_type": "markdown",
   "id": "f9005400",
   "metadata": {},
   "source": [
    "## Display Bar Plot matplotlib"
   ]
  },
  {
   "cell_type": "code",
   "execution_count": 78,
   "id": "f5107017",
   "metadata": {
    "scrolled": false
   },
   "outputs": [
    {
     "name": "stdout",
     "output_type": "stream",
     "text": [
      "Warning: Cannot change to a different GUI toolkit: qt. Using tk instead.\n"
     ]
    },
    {
     "name": "stderr",
     "output_type": "stream",
     "text": [
      "C:\\anaconda3\\lib\\site-packages\\seaborn\\_decorators.py:36: FutureWarning: Pass the following variable as a keyword arg: x. From version 0.12, the only valid positional argument will be `data`, and passing other arguments without an explicit keyword will result in an error or misinterpretation.\n",
      "  warnings.warn(\n"
     ]
    }
   ],
   "source": [
    "# %matplotlib notebook\n",
    "# %matplotlib inline\n",
    "%matplotlib qt \n",
    "import seaborn as sns\n",
    "import matplotlib.pyplot as plt\n",
    "plt.figure(figsize=(14,6))\n",
    "plt.subplot(211)\n",
    "\n",
    "sns.countplot(\"profession\",data=data)\n",
    "plt.subplot(212)\n",
    "sns.countplot(x= \"profession\",hue='profession',data=data); #déferlement de violence sur twitter comme à priori confirmé"
   ]
  },
  {
   "cell_type": "markdown",
   "id": "3354daf1",
   "metadata": {},
   "source": [
    "## Display circular plot matplotlib"
   ]
  },
  {
   "cell_type": "code",
   "execution_count": 79,
   "id": "e94bfbf2",
   "metadata": {
    "scrolled": true
   },
   "outputs": [
    {
     "name": "stdout",
     "output_type": "stream",
     "text": [
      "Warning: Cannot change to a different GUI toolkit: qt. Using tk instead.\n"
     ]
    },
    {
     "data": {
      "text/plain": [
       "<AxesSubplot:ylabel='profession'>"
      ]
     },
     "execution_count": 79,
     "metadata": {},
     "output_type": "execute_result"
    }
   ],
   "source": [
    "# %matplotlib inline\n",
    "%matplotlib qt \n",
    "colors = [\"green\",\"magenta\", \"red\", \"purple\", \"orange\"]\n",
    "data[\"profession\"].value_counts().plot.pie( autopct='%1.1f%%', shadow=True,startangle=60, counterclock=False,colors=colors)"
   ]
  },
  {
   "cell_type": "code",
   "execution_count": null,
   "id": "bc1be5d9",
   "metadata": {},
   "outputs": [],
   "source": []
  }
 ],
 "metadata": {
  "kernelspec": {
   "display_name": "Python 3",
   "language": "python",
   "name": "python3"
  },
  "language_info": {
   "codemirror_mode": {
    "name": "ipython",
    "version": 3
   },
   "file_extension": ".py",
   "mimetype": "text/x-python",
   "name": "python",
   "nbconvert_exporter": "python",
   "pygments_lexer": "ipython3",
   "version": "3.8.8"
  },
  "toc": {
   "base_numbering": 1,
   "nav_menu": {},
   "number_sections": true,
   "sideBar": true,
   "skip_h1_title": false,
   "title_cell": "Table of Contents",
   "title_sidebar": "Contents",
   "toc_cell": false,
   "toc_position": {},
   "toc_section_display": true,
   "toc_window_display": false
  }
 },
 "nbformat": 4,
 "nbformat_minor": 5
}
